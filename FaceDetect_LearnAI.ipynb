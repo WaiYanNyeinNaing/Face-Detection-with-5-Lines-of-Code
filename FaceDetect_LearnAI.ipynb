{
 "cells": [
  {
   "cell_type": "code",
   "execution_count": 7,
   "metadata": {},
   "outputs": [],
   "source": [
    "import dlib\n",
    "import cv2"
   ]
  },
  {
   "cell_type": "code",
   "execution_count": 8,
   "metadata": {},
   "outputs": [],
   "source": [
    "# Take the image file name from the folder\n",
    "image = cv2.imread(\"w8.jpg\")"
   ]
  },
  {
   "cell_type": "code",
   "execution_count": 9,
   "metadata": {},
   "outputs": [],
   "source": [
    "# Create a HOG face detector using the built-in dlib class\n",
    "HOG = dlib.get_frontal_face_detector()\n",
    "\n",
    "# Run the HOG face detector on the image data.\n",
    "detected_faces = HOG(image,1)\n",
    "\n",
    "show = dlib.image_window()\n",
    "\n",
    "# Open a window on the desktop showing the image\n",
    "show.set_image(image)\n",
    "\n",
    "# Draw a box around each face we found\n",
    "show.add_overlay(detected_faces)\n",
    "\n",
    "# Wait until the user hits <enter> to close the window\t        \n",
    "dlib.hit_enter_to_continue()\n"
   ]
  },
  {
   "cell_type": "code",
   "execution_count": null,
   "metadata": {},
   "outputs": [],
   "source": [
    "\n"
   ]
  }
 ],
 "metadata": {
  "kernelspec": {
   "display_name": "Python 3",
   "language": "python",
   "name": "python3"
  },
  "language_info": {
   "codemirror_mode": {
    "name": "ipython",
    "version": 3
   },
   "file_extension": ".py",
   "mimetype": "text/x-python",
   "name": "python",
   "nbconvert_exporter": "python",
   "pygments_lexer": "ipython3",
   "version": "3.6.5"
  }
 },
 "nbformat": 4,
 "nbformat_minor": 2
}
